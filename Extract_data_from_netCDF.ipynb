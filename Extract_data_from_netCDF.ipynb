{
 "cells": [
  {
   "cell_type": "markdown",
   "metadata": {},
   "source": [
    "# How to access netCDF from Copernicus Services Data Hub and store in csv"
   ]
  },
  {
   "cell_type": "code",
   "execution_count": 110,
   "metadata": {},
   "outputs": [],
   "source": [
    "from netCDF4 import Dataset\n",
    "import numpy as np\n",
    "import pandas as pd"
   ]
  },
  {
   "cell_type": "markdown",
   "metadata": {},
   "source": [
    "Import the netCDF file that included the data we would like to use"
   ]
  },
  {
   "cell_type": "code",
   "execution_count": 111,
   "metadata": {},
   "outputs": [],
   "source": [
    "data=Dataset(r'C:\\Users\\abder\\Downloads/Meantemperature20262050rcp26.nc','r')"
   ]
  },
  {
   "cell_type": "code",
   "execution_count": 112,
   "metadata": {},
   "outputs": [],
   "source": [
    "#check the variables in the netCDF file\n",
    "#data.variables.keys()"
   ]
  },
  {
   "cell_type": "code",
   "execution_count": 113,
   "metadata": {
    "scrolled": true
   },
   "outputs": [],
   "source": [
    "#check the specification of each variables\n",
    "#print(data.variables['time'])\n",
    "#print(data.variables['lat'])\n",
    "#print(data.variables['pr'])"
   ]
  },
  {
   "cell_type": "markdown",
   "metadata": {},
   "source": [
    "Create variables with the data series we would like to use \n",
    "Specifically longitude lattitude, and time"
   ]
  },
  {
   "cell_type": "code",
   "execution_count": 114,
   "metadata": {},
   "outputs": [],
   "source": [
    "#creating variables for each variables\n",
    "lats=data.variables['lat'][:]\n",
    "lons=data.variables['lon'][:]\n",
    "time=data.variables['time'][:]"
   ]
  },
  {
   "cell_type": "code",
   "execution_count": 115,
   "metadata": {},
   "outputs": [],
   "source": [
    "#data.variables['time']"
   ]
  },
  {
   "cell_type": "markdown",
   "metadata": {},
   "source": [
    "Here we need to enter the lat and long of the area we would like to target"
   ]
  },
  {
   "cell_type": "code",
   "execution_count": 116,
   "metadata": {},
   "outputs": [
    {
     "name": "stdout",
     "output_type": "stream",
     "text": [
      "41\n",
      "13\n"
     ]
    }
   ],
   "source": [
    "#Enter the values of lat and lon of the place we want\n",
    "Target_lat=-6.943752\n",
    "Target_lon=33.929162\n",
    "\n",
    "#######\n",
    "#we need to make sure that we actually find values in our long lat \n",
    "#corresponding to our target\n",
    "######\n",
    "\n",
    "#we can use squared different to find the closes values\n",
    "sq_diff_lat=(lats-Target_lat)**2\n",
    "sq_diff_lon=(lons-Target_lon)**2\n",
    "\n",
    "#we need the find the index of the minimum value or the closest value in our table with the target variables\n",
    "min_index_lat=sq_diff_lat.argmin()\n",
    "min_index_lon=sq_diff_lon.argmin()\n",
    "\n",
    "print(min_index_lat)\n",
    "print(min_index_lon)"
   ]
  },
  {
   "cell_type": "code",
   "execution_count": 130,
   "metadata": {},
   "outputs": [],
   "source": [
    "#create a varibale for the value we want\n",
    "target=data.variables['pr']\n",
    "#check the shape of the variable\n",
    "#target"
   ]
  },
  {
   "cell_type": "code",
   "execution_count": 131,
   "metadata": {},
   "outputs": [
    {
     "name": "stdout",
     "output_type": "stream",
     "text": [
      "4.18443e-05 kg m-2 s-1\n"
     ]
    }
   ],
   "source": [
    "#we can now print the specific value we want\n",
    "print(target[0,41,13],target.units)"
   ]
  },
  {
   "cell_type": "code",
   "execution_count": 132,
   "metadata": {},
   "outputs": [],
   "source": [
    "#create a pandas dataframe to be filled with the values we would like to use"
   ]
  },
  {
   "cell_type": "code",
   "execution_count": 133,
   "metadata": {},
   "outputs": [
    {
     "data": {
      "text/plain": [
       "'2026'"
      ]
     },
     "execution_count": 133,
     "metadata": {},
     "output_type": "execute_result"
    }
   ],
   "source": [
    "#here at what link we would like to extract\n",
    "data.variables['time'].units[11:15]"
   ]
  },
  {
   "cell_type": "code",
   "execution_count": 134,
   "metadata": {},
   "outputs": [
    {
     "name": "stdout",
     "output_type": "stream",
     "text": [
      "2026-1-1\n",
      "2026-12-31\n"
     ]
    }
   ],
   "source": [
    "#Creating empty dataframe\n",
    "starting_date=data.variables['time'].units[11:19]\n",
    "ending_date=data.variables['time'].units[11:15]+'-12-31'\n",
    "\n",
    "print(starting_date)\n",
    "print(ending_date)\n",
    "\n",
    "date_range=pd.date_range(start=starting_date,end=ending_date)\n",
    "df=pd.DataFrame(0,columns=['Data target'], index=date_range)"
   ]
  },
  {
   "cell_type": "markdown",
   "metadata": {},
   "source": [
    "As you can see here, we have only extract data for one year. To extract data for multiple year, we would need to specify othe values for the year."
   ]
  },
  {
   "cell_type": "code",
   "execution_count": 135,
   "metadata": {},
   "outputs": [],
   "source": [
    "#time index table\n",
    "dt=np.arange(0,data.variables['time'].size)\n",
    "#print(dt)"
   ]
  },
  {
   "cell_type": "code",
   "execution_count": 136,
   "metadata": {},
   "outputs": [],
   "source": [
    "#for each time index store relevant values of the target variable in the dataframe\n",
    "for time_index in dt: \n",
    "    df.iloc[time_index]=target[time_index,min_index_lat,min_index_lon]\n",
    "\n",
    "#saving the timeseries into a csv\n",
    "df.to_csv('C://Users//abder//Downloads//target_data.csv')"
   ]
  },
  {
   "cell_type": "code",
   "execution_count": null,
   "metadata": {},
   "outputs": [],
   "source": []
  }
 ],
 "metadata": {
  "kernelspec": {
   "display_name": "Python 3",
   "language": "python",
   "name": "python3"
  },
  "language_info": {
   "codemirror_mode": {
    "name": "ipython",
    "version": 3
   },
   "file_extension": ".py",
   "mimetype": "text/x-python",
   "name": "python",
   "nbconvert_exporter": "python",
   "pygments_lexer": "ipython3",
   "version": "3.7.4"
  }
 },
 "nbformat": 4,
 "nbformat_minor": 2
}
