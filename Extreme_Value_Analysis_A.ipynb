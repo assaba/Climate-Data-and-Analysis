{
  "nbformat": 4,
  "nbformat_minor": 0,
  "metadata": {
    "colab": {
      "name": "Extreme Value Analysis A.ipynb",
      "provenance": [],
      "collapsed_sections": [],
      "toc_visible": true
    },
    "kernelspec": {
      "name": "python3",
      "display_name": "Python 3"
    }
  },
  "cells": [
    {
      "cell_type": "code",
      "metadata": {
        "id": "s7Nqlmx3gg8t"
      },
      "source": [
        "#!pip uninstall lmoments3"
      ],
      "execution_count": null,
      "outputs": []
    },
    {
      "cell_type": "code",
      "metadata": {
        "id": "3rpQU4m4fkJ2"
      },
      "source": [
        "#!pip install git+https://github.com/OpenHydrology/lmoments3.git"
      ],
      "execution_count": null,
      "outputs": []
    },
    {
      "cell_type": "code",
      "metadata": {
        "id": "vcFAZOmkTXyr"
      },
      "source": [
        "import pandas as pd\n",
        "import numpy as np\n",
        "import matplotlib.pylab as plt\n",
        "from matplotlib.legend_handler import HandlerLine2D\n",
        "import scipy.misc\n",
        "\n",
        "\n",
        "%matplotlib inline\n",
        "from matplotlib.pylab import rcParams\n",
        "rcParams['figure.figsize']=15,6"
      ],
      "execution_count": null,
      "outputs": []
    },
    {
      "cell_type": "markdown",
      "metadata": {
        "id": "k0COOWxKTcST"
      },
      "source": [
        "**Extreme Value Analysis of pressure data based on Tutorial by Chonghua Yin**"
      ]
    },
    {
      "cell_type": "markdown",
      "metadata": {
        "id": "Hx_b7TpXZc7n"
      },
      "source": [
        "https://www.linkedin.com/pulse/beginners-guide-carry-out-extreme-value-analysis-2-chonghua-yin"
      ]
    },
    {
      "cell_type": "markdown",
      "metadata": {
        "id": "BBpIh6NRVujP"
      },
      "source": [
        "First let us load our atmospheric pressure data"
      ]
    },
    {
      "cell_type": "code",
      "metadata": {
        "colab": {
          "base_uri": "https://localhost:8080/"
        },
        "id": "S408JFpNVtvv",
        "outputId": "17f5b75c-7498-44c2-f2af-3058257b352f"
      },
      "source": [
        "data=pd.read_csv('target_data.csv')\n",
        "print(data.tail())"
      ],
      "execution_count": null,
      "outputs": [
        {
          "output_type": "stream",
          "text": [
            "       Unnamed: 0    Year  Data target\n",
            "10588  27/12/2070  2070.0            0\n",
            "10589  28/12/2070  2070.0            0\n",
            "10590  29/12/2070  2070.0            0\n",
            "10591  30/12/2070  2070.0            0\n",
            "10592  31/12/2070  2070.0            0\n"
          ],
          "name": "stdout"
        }
      ]
    },
    {
      "cell_type": "markdown",
      "metadata": {
        "id": "SgUP45S7YJnG"
      },
      "source": [
        "We also need to install the Python package L-moments used to calibrate the parameters of the distributions to be use\n",
        "https://pypi.org/project/lmoments/[link text](https:// [link text](https://))\n",
        "L-moments supports the following distributions: \n",
        "*Exponential (EXP)\n",
        "*Gamma (GAM)\n",
        "*Generalised Extreme Value (GEV)\n",
        "*Generalised Logistic (GLO)\n",
        "*Generalised Normal (GNO)\n",
        "*Generalised Pareto (GPA)\n",
        "*Gumbel (GUM)\n",
        "*Kappa (KAP)\n",
        "*Normal (NOR)\n",
        "*Pearson III (PE3)\n",
        "*Wakeby (WAK)\n",
        "*Weibull (WEI)"
      ]
    },
    {
      "cell_type": "code",
      "metadata": {
        "id": "wJ4awmNtZD0M"
      },
      "source": [
        "import lmoments3 as lm\n",
        "from lmoments3 import distr\n"
      ],
      "execution_count": null,
      "outputs": []
    },
    {
      "cell_type": "markdown",
      "metadata": {
        "id": "RljxfYeCZOkP"
      },
      "source": [
        "We need then to select extreme values from the dataset"
      ]
    },
    {
      "cell_type": "code",
      "metadata": {
        "colab": {
          "base_uri": "https://localhost:8080/",
          "height": 391
        },
        "id": "TgCqDOFfZMxb",
        "outputId": "6fc33fbe-a304-48f2-edc0-1d64fd88c457"
      },
      "source": [
        "df=data.groupby('Year')['Data target'].max()\n",
        "plt.plot(df)"
      ],
      "execution_count": null,
      "outputs": [
        {
          "output_type": "execute_result",
          "data": {
            "text/plain": [
              "[<matplotlib.lines.Line2D at 0x7f25ffba5fd0>]"
            ]
          },
          "metadata": {
            "tags": []
          },
          "execution_count": 55
        },
        {
          "output_type": "display_data",
          "data": {
            "image/png": "[encoded data removed]",
            "text/plain": [
              "<Figure size 1080x432 with 1 Axes>"
            ]
          },
          "metadata": {
            "tags": [],
            "needs_background": "light"
          }
        }
      ]
    },
    {
      "cell_type": "markdown",
      "metadata": {
        "id": "r7sT9WLsZGGV"
      },
      "source": [
        "# Fitting GEV distribution to the data"
      ]
    },
    {
      "cell_type": "markdown",
      "metadata": {
        "id": "IcaEm4LfaZI_"
      },
      "source": [
        "Let us calculate the L-moments before fitting the data"
      ]
    },
    {
      "cell_type": "code",
      "metadata": {
        "colab": {
          "base_uri": "https://localhost:8080/"
        },
        "id": "g6PFffszZy1S",
        "outputId": "c7b2429a-0e71-4b50-bbdc-7d8f3538919f"
      },
      "source": [
        "LMU = lm.lmom_ratios(df, nmom=5)\n",
        "LMU"
      ],
      "execution_count": null,
      "outputs": [
        {
          "output_type": "execute_result",
          "data": {
            "text/plain": [
              "[6.902616666666666e-05,\n",
              " 2.1110257575757577e-05,\n",
              " -0.27723345752495737,\n",
              " 0.09653045781037563,\n",
              " 0.04215026875488504]"
            ]
          },
          "metadata": {
            "tags": []
          },
          "execution_count": 42
        }
      ]
    },
    {
      "cell_type": "markdown",
      "metadata": {
        "id": "fCHsv7xGKyBw"
      },
      "source": [
        "Let us then fit GEV distribution and estimate the parameters"
      ]
    },
    {
      "cell_type": "code",
      "metadata": {
        "id": "yXeyNkbuaxdh"
      },
      "source": [
        "gevfit = distr.gev.lmom_fit(LMU)\n",
        "expfit = distr.exp.lmom_fit(LMU)\n",
        "gumfit = distr.gum.lmom_fit(LMU)\n",
        "#weifit = distr.wei.lmom_fit(LMU)\n",
        "#gpafit = distr.gpa.lmom_fit(LMU)\n",
        "#pe3fit = distr.pe3.lmom_fit(LMU)\n",
        "#gamfit = distr.gam.lmom_fit(LMU)\n",
        "#glofit = distr.glo.lmom_fit(LMU)"
      ],
      "execution_count": null,
      "outputs": []
    },
    {
      "cell_type": "markdown",
      "metadata": {
        "id": "wpTyPMNxQs6L"
      },
      "source": [
        "Getting Extreme Pressure According to a specific return year \n",
        "**Let us use three distributions only for the sake of the example**"
      ]
    },
    {
      "cell_type": "code",
      "metadata": {
        "id": "Es2SrZTOQ5q6"
      },
      "source": [
        "gevfitted=distr.gev(**gevfit)\n",
        "expfitted=distr.exp(**expfit)\n",
        "gumfitted=distr.gum(**gumfit)"
      ],
      "execution_count": null,
      "outputs": []
    },
    {
      "cell_type": "code",
      "metadata": {
        "colab": {
          "base_uri": "https://localhost:8080/"
        },
        "id": "jULxyonnP4HG",
        "outputId": "e7b63c84-6f08-4f7a-e7ce-cd0bbede88df"
      },
      "source": [
        "# return years (1.1 to 1000)\n",
        "T = np.arange(0.1, 999.1, 0.1) + 1\n",
        "\n",
        "# extreme pressure\n",
        "gevfitted=distr.gev(**gevfit)\n",
        "gevST=gevfitted.ppf(1.0-1./T)\n",
        "\n",
        "expfitted=distr.exp(**expfit)\n",
        "expST=expfitted.ppf(1.0-1./T)\n",
        "\n",
        "gumfitted=distr.gum(**gumfit)\n",
        "gumST=gumfitted.ppf(1.0-1./T)\n",
        "\n",
        "gevST\n",
        "expST\n",
        "gumST"
      ],
      "execution_count": null,
      "outputs": [
        {
          "output_type": "execute_result",
          "data": {
            "text/plain": [
              "array([-0.19308735, -0.15989082, -0.13705709, ...,  0.69342443,\n",
              "        0.69343583,  0.69344723])"
            ]
          },
          "metadata": {
            "tags": []
          },
          "execution_count": 46
        }
      ]
    },
    {
      "cell_type": "code",
      "metadata": {
        "colab": {
          "base_uri": "https://localhost:8080/",
          "height": 408
        },
        "id": "ftLDAe8xUjTq",
        "outputId": "5b2759dd-5dc1-463a-9412-418e0e2b4629"
      },
      "source": [
        "# setup plotting parameters\n",
        "plt.xscale('log')\n",
        "plt.xlabel('Average Return Interval (Year)')\n",
        "plt.ylabel('Pressure (inches)')\n",
        "\n",
        "# draw extreme values from GEV distribution\n",
        "line1, = plt.plot(T, gevST, 'g', label='GEV')\n",
        "line2, = plt.plot(T, expST, 'r', label='EXP')\n",
        "line3, = plt.plot(T, gumST, 'b', label='GUM')\n",
        "#line4, = plt.plot(T, weiST, 'y', label='WEI')\n",
        "#line5, = plt.plot(T, gpaST, 'c', label='GPA')\n",
        "#line6, = plt.plot(T, pe3ST, 'm', label='PE3')\n",
        "#line7, = plt.plot(T, gamST, 'k', label='GAM')\n",
        "#line8, = plt.plot(T, gloST, c='orange', label='GLO')\n",
        "\n",
        "# draw extreme values from observations(empirical distribution)\n",
        "N    = np.r_[1:len(df.index)+1]*1.0 #must *1.0 to convert int to float\n",
        "Nmax = max(N)\n",
        "\n",
        "plt.scatter(Nmax/N, sorted(df)[::-1], color = 'orangered', facecolors='none', label='Empirical')\n",
        "plt.legend(handler_map={line1: HandlerLine2D(numpoints=4)})"
      ],
      "execution_count": null,
      "outputs": [
        {
          "output_type": "execute_result",
          "data": {
            "text/plain": [
              "<matplotlib.legend.Legend at 0x7f260078db00>"
            ]
          },
          "metadata": {
            "tags": []
          },
          "execution_count": 47
        },
        {
          "output_type": "display_data",
          "data": {
            "image/png": "[encoded data removed]",
            "text/plain": [
              "<Figure size 1080x432 with 1 Axes>"
            ]
          },
          "metadata": {
            "tags": [],
            "needs_background": "light"
          }
        }
      ]
    },
    {
      "cell_type": "markdown",
      "metadata": {
        "id": "hooFH5fpY-uX"
      },
      "source": [
        "# Finding an optimal distribution"
      ]
    },
    {
      "cell_type": "markdown",
      "metadata": {
        "id": "UZC759X9ZMhN"
      },
      "source": [
        "Use of the kolmogorov-Smirnov test\n",
        "https://docs.scipy.org/doc/scipy/reference/generated/scipy.stats.ks_2samp.html "
      ]
    },
    {
      "cell_type": "code",
      "metadata": {
        "colab": {
          "base_uri": "https://localhost:8080/",
          "height": 137
        },
        "id": "cfKDR9XAUsfB",
        "outputId": "57d60c4c-7cb4-4b9c-ecce-852228e05585"
      },
      "source": [
        "from scipy import stats as stats\n",
        "\n",
        "# prepare probabilites according to observations\n",
        "N    = np.r_[1:len(df.index)+1]*1.0 #must *1.0 to convert int to float\n",
        "Nmax = max(N)   \n",
        "P0   = (N-1.)/Nmax\n",
        "P    = np.delete(P0,0)\n",
        "\n",
        "obs = sorted(df)[1:]\n",
        "\n",
        "# extreme precipitations\n",
        "gevSTo = gevfitted.ppf(1.0-1./P)\n",
        "expSTo = expfitted.ppf(1.0-1./P) \n",
        "gumSTo = gumfitted.ppf(1.0-1./P)\n",
        "\n",
        "\n",
        "# do ks test\n",
        "ks = [('GEV', stats.ks_2samp(obs, gevSTo)), ('EXP', stats.ks_2samp(obs, expSTo)),\n",
        "      ('GUM', stats.ks_2samp(obs, gumSTo))]\n",
        "\n",
        "labels = ['Distribution', 'KS (statistics, pvalue)']\n",
        "pd.DataFrame(ks, columns=labels)"
      ],
      "execution_count": null,
      "outputs": [
        {
          "output_type": "execute_result",
          "data": {
            "text/html": [
              "<div>\n",
              "<style scoped>\n",
              "    .dataframe tbody tr th:only-of-type {\n",
              "        vertical-align: middle;\n",
              "    }\n",
              "\n",
              "    .dataframe tbody tr th {\n",
              "        vertical-align: top;\n",
              "    }\n",
              "\n",
              "    .dataframe thead th {\n",
              "        text-align: right;\n",
              "    }\n",
              "</style>\n",
              "<table border=\"1\" class=\"dataframe\">\n",
              "  <thead>\n",
              "    <tr style=\"text-align: right;\">\n",
              "      <th></th>\n",
              "      <th>Distribution</th>\n",
              "      <th>KS (statistics, pvalue)</th>\n",
              "    </tr>\n",
              "  </thead>\n",
              "  <tbody>\n",
              "    <tr>\n",
              "      <th>0</th>\n",
              "      <td>GEV</td>\n",
              "      <td>(1.0, 2.835142154027603e-06)</td>\n",
              "    </tr>\n",
              "    <tr>\n",
              "      <th>1</th>\n",
              "      <td>EXP</td>\n",
              "      <td>(1.0, 2.835142154027603e-06)</td>\n",
              "    </tr>\n",
              "    <tr>\n",
              "      <th>2</th>\n",
              "      <td>GUM</td>\n",
              "      <td>(1.0, 2.835142154027603e-06)</td>\n",
              "    </tr>\n",
              "  </tbody>\n",
              "</table>\n",
              "</div>"
            ],
            "text/plain": [
              "  Distribution       KS (statistics, pvalue)\n",
              "0          GEV  (1.0, 2.835142154027603e-06)\n",
              "1          EXP  (1.0, 2.835142154027603e-06)\n",
              "2          GUM  (1.0, 2.835142154027603e-06)"
            ]
          },
          "metadata": {
            "tags": []
          },
          "execution_count": 49
        }
      ]
    },
    {
      "cell_type": "code",
      "metadata": {
        "colab": {
          "base_uri": "https://localhost:8080/",
          "height": 408
        },
        "id": "I_tRdg-PZn3C",
        "outputId": "ebf2b900-96d2-4e9b-a6b7-d61f482e02b2"
      },
      "source": [
        "plt.xscale('log')\n",
        "plt.xlabel('Average Return Interval (Year)')\n",
        "plt.ylabel('Precipitation (inches)')\n",
        "line1, = plt.plot(T, gevST, 'g', label='GEV')\n",
        "\n",
        "# draw extreme values from observations(empirical distribution)\n",
        "N    = np.r_[1:len(df.index)+1]*1.0 #must *1.0 to convert int to float\n",
        "Nmax = max(N)\n",
        "\n",
        "plt.scatter(Nmax/N, sorted(df)[::-1], color = 'orangered', facecolors='none', label='Empirical')\n",
        "plt.legend(handler_map={line1: HandlerLine2D(numpoints=4)})"
      ],
      "execution_count": null,
      "outputs": [
        {
          "output_type": "execute_result",
          "data": {
            "text/plain": [
              "<matplotlib.legend.Legend at 0x7f260059c1d0>"
            ]
          },
          "metadata": {
            "tags": []
          },
          "execution_count": 50
        },
        {
          "output_type": "display_data",
          "data": {
            "image/png": "[encoded data removed]",
            "text/plain": [
              "<Figure size 1080x432 with 1 Axes>"
            ]
          },
          "metadata": {
            "tags": [],
            "needs_background": "light"
          }
        }
      ]
    },
    {
      "cell_type": "code",
      "metadata": {
        "id": "mgik5FljaPQr"
      },
      "source": [
        ""
      ],
      "execution_count": null,
      "outputs": []
    }
  ]
}